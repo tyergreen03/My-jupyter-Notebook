{
 "cells": [
  {
   "cell_type": "markdown",
   "id": "39960c89-aa93-4f66-96d1-748622f19107",
   "metadata": {},
   "source": [
    "My Jupyter Notebook on IBM Watson Studio"
   ]
  },
  {
   "cell_type": "markdown",
   "id": "17ab76e5-a95c-4fe5-8392-74c6f744141a",
   "metadata": {},
   "source": [
    "**Tyler Green** I am currently a Cdl A truck driver"
   ]
  },
  {
   "cell_type": "markdown",
   "id": "cf68d3e2-1d0a-4be8-8657-df65402e5e65",
   "metadata": {},
   "source": [
    "*I am interested in data science because i think it would be a great career change. I also think it would be fun and interesting to study how different factors can change out comes in situations.*"
   ]
  },
  {
   "cell_type": "markdown",
   "id": "d889de2d-0ffa-4312-86ae-63108ff0072c",
   "metadata": {},
   "source": [
    "In cell 5 the cell will add 5 plus 5 and should give an output of 10"
   ]
  },
  {
   "cell_type": "code",
   "execution_count": 1,
   "id": "b8a69c1e-58ce-465b-97e1-107496032f6e",
   "metadata": {},
   "outputs": [
    {
     "data": {
      "text/plain": [
       "10"
      ]
     },
     "execution_count": 1,
     "metadata": {},
     "output_type": "execute_result"
    }
   ],
   "source": [
    "5+5"
   ]
  },
  {
   "cell_type": "markdown",
   "id": "19b3eeca-9d1b-4719-8d1d-26eff07fe790",
   "metadata": {},
   "source": [
    " - Today is october 1st\n",
    " - It is also Sunday\n",
    " 1. Use 1/2 cup of flour\n",
    " 2. Add 2/3 cups of milk\n",
    " ***"
   ]
  },
  {
   "cell_type": "code",
   "execution_count": null,
   "id": "eac2502c-36a0-407a-8994-d4379156ee24",
   "metadata": {},
   "outputs": [],
   "source": []
  }
 ],
 "metadata": {
  "kernelspec": {
   "display_name": "Python",
   "language": "python",
   "name": "conda-env-python-py"
  },
  "language_info": {
   "codemirror_mode": {
    "name": "ipython",
    "version": 3
   },
   "file_extension": ".py",
   "mimetype": "text/x-python",
   "name": "python",
   "nbconvert_exporter": "python",
   "pygments_lexer": "ipython3",
   "version": "3.7.12"
  }
 },
 "nbformat": 4,
 "nbformat_minor": 5
}
